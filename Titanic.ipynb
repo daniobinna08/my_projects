{
 "cells": [
  {
   "cell_type": "code",
   "execution_count": 2,
   "id": "c62ecfe2",
   "metadata": {},
   "outputs": [],
   "source": [
    "import pandas as pd\n",
    "import numpy as np\n",
    "import seaborn as sns\n",
    "import matplotlib.pyplot as plt"
   ]
  },
  {
   "cell_type": "code",
   "execution_count": 116,
   "id": "52343c9c",
   "metadata": {},
   "outputs": [],
   "source": [
    "#Reading in the train data\n",
    "titanic_train = pd.read_csv(\"train.csv\")"
   ]
  },
  {
   "cell_type": "code",
   "execution_count": 117,
   "id": "ca8fa9ea",
   "metadata": {},
   "outputs": [
    {
     "data": {
      "text/html": [
       "<div>\n",
       "<style scoped>\n",
       "    .dataframe tbody tr th:only-of-type {\n",
       "        vertical-align: middle;\n",
       "    }\n",
       "\n",
       "    .dataframe tbody tr th {\n",
       "        vertical-align: top;\n",
       "    }\n",
       "\n",
       "    .dataframe thead th {\n",
       "        text-align: right;\n",
       "    }\n",
       "</style>\n",
       "<table border=\"1\" class=\"dataframe\">\n",
       "  <thead>\n",
       "    <tr style=\"text-align: right;\">\n",
       "      <th></th>\n",
       "      <th>PassengerId</th>\n",
       "      <th>Survived</th>\n",
       "      <th>Pclass</th>\n",
       "      <th>Name</th>\n",
       "      <th>Sex</th>\n",
       "      <th>Age</th>\n",
       "      <th>SibSp</th>\n",
       "      <th>Parch</th>\n",
       "      <th>Ticket</th>\n",
       "      <th>Fare</th>\n",
       "      <th>Cabin</th>\n",
       "      <th>Embarked</th>\n",
       "    </tr>\n",
       "  </thead>\n",
       "  <tbody>\n",
       "    <tr>\n",
       "      <th>0</th>\n",
       "      <td>1</td>\n",
       "      <td>0</td>\n",
       "      <td>3</td>\n",
       "      <td>Braund, Mr. Owen Harris</td>\n",
       "      <td>male</td>\n",
       "      <td>22.0</td>\n",
       "      <td>1</td>\n",
       "      <td>0</td>\n",
       "      <td>A/5 21171</td>\n",
       "      <td>7.2500</td>\n",
       "      <td>NaN</td>\n",
       "      <td>S</td>\n",
       "    </tr>\n",
       "    <tr>\n",
       "      <th>1</th>\n",
       "      <td>2</td>\n",
       "      <td>1</td>\n",
       "      <td>1</td>\n",
       "      <td>Cumings, Mrs. John Bradley (Florence Briggs Th...</td>\n",
       "      <td>female</td>\n",
       "      <td>38.0</td>\n",
       "      <td>1</td>\n",
       "      <td>0</td>\n",
       "      <td>PC 17599</td>\n",
       "      <td>71.2833</td>\n",
       "      <td>C85</td>\n",
       "      <td>C</td>\n",
       "    </tr>\n",
       "    <tr>\n",
       "      <th>2</th>\n",
       "      <td>3</td>\n",
       "      <td>1</td>\n",
       "      <td>3</td>\n",
       "      <td>Heikkinen, Miss. Laina</td>\n",
       "      <td>female</td>\n",
       "      <td>26.0</td>\n",
       "      <td>0</td>\n",
       "      <td>0</td>\n",
       "      <td>STON/O2. 3101282</td>\n",
       "      <td>7.9250</td>\n",
       "      <td>NaN</td>\n",
       "      <td>S</td>\n",
       "    </tr>\n",
       "    <tr>\n",
       "      <th>3</th>\n",
       "      <td>4</td>\n",
       "      <td>1</td>\n",
       "      <td>1</td>\n",
       "      <td>Futrelle, Mrs. Jacques Heath (Lily May Peel)</td>\n",
       "      <td>female</td>\n",
       "      <td>35.0</td>\n",
       "      <td>1</td>\n",
       "      <td>0</td>\n",
       "      <td>113803</td>\n",
       "      <td>53.1000</td>\n",
       "      <td>C123</td>\n",
       "      <td>S</td>\n",
       "    </tr>\n",
       "    <tr>\n",
       "      <th>4</th>\n",
       "      <td>5</td>\n",
       "      <td>0</td>\n",
       "      <td>3</td>\n",
       "      <td>Allen, Mr. William Henry</td>\n",
       "      <td>male</td>\n",
       "      <td>35.0</td>\n",
       "      <td>0</td>\n",
       "      <td>0</td>\n",
       "      <td>373450</td>\n",
       "      <td>8.0500</td>\n",
       "      <td>NaN</td>\n",
       "      <td>S</td>\n",
       "    </tr>\n",
       "  </tbody>\n",
       "</table>\n",
       "</div>"
      ],
      "text/plain": [
       "   PassengerId  Survived  Pclass  \\\n",
       "0            1         0       3   \n",
       "1            2         1       1   \n",
       "2            3         1       3   \n",
       "3            4         1       1   \n",
       "4            5         0       3   \n",
       "\n",
       "                                                Name     Sex   Age  SibSp  \\\n",
       "0                            Braund, Mr. Owen Harris    male  22.0      1   \n",
       "1  Cumings, Mrs. John Bradley (Florence Briggs Th...  female  38.0      1   \n",
       "2                             Heikkinen, Miss. Laina  female  26.0      0   \n",
       "3       Futrelle, Mrs. Jacques Heath (Lily May Peel)  female  35.0      1   \n",
       "4                           Allen, Mr. William Henry    male  35.0      0   \n",
       "\n",
       "   Parch            Ticket     Fare Cabin Embarked  \n",
       "0      0         A/5 21171   7.2500   NaN        S  \n",
       "1      0          PC 17599  71.2833   C85        C  \n",
       "2      0  STON/O2. 3101282   7.9250   NaN        S  \n",
       "3      0            113803  53.1000  C123        S  \n",
       "4      0            373450   8.0500   NaN        S  "
      ]
     },
     "execution_count": 117,
     "metadata": {},
     "output_type": "execute_result"
    }
   ],
   "source": [
    "#to view the first 5 rows of the dataset\n",
    "titanic_train.head()"
   ]
  },
  {
   "cell_type": "code",
   "execution_count": 118,
   "id": "a412d819",
   "metadata": {},
   "outputs": [],
   "source": [
    "#setting the background style to dark for plots\n",
    "sns.set_style('darkgrid')"
   ]
  },
  {
   "cell_type": "markdown",
   "id": "5642e7db",
   "metadata": {},
   "source": [
    "The below heatmap shows correlation between the numerical columns in the dataset. There seems to be a negative correlation between Pclass and Fare, Pclass and Age, Pclass and Survived. There is a positive correlation between survived and Fare. These give insights into to the importance of these factors in predicting survival of passengers."
   ]
  },
  {
   "cell_type": "code",
   "execution_count": 119,
   "id": "91e3e4bf",
   "metadata": {},
   "outputs": [
    {
     "data": {
      "text/plain": [
       "Text(0.5, 1.0, 'Titanic data heatmap')"
      ]
     },
     "execution_count": 119,
     "metadata": {},
     "output_type": "execute_result"
    },
    {
     "data": {
      "image/png": "[encoded data removed]",
      "text/plain": [
       "<Figure size 432x288 with 2 Axes>"
      ]
     },
     "metadata": {},
     "output_type": "display_data"
    }
   ],
   "source": [
    "#heatmap of the dataset\n",
    "sns.heatmap(titanic_train.corr(), cmap='plasma')\n",
    "plt.title('Titanic data heatmap')"
   ]
  },
  {
   "cell_type": "code",
   "execution_count": 120,
   "id": "d7fe464d",
   "metadata": {},
   "outputs": [
    {
     "data": {
      "text/plain": [
       "<AxesSubplot:>"
      ]
     },
     "execution_count": 120,
     "metadata": {},
     "output_type": "execute_result"
    },
    {
     "data": {
      "image/png": "[encoded data removed]",
      "text/plain": [
       "<Figure size 432x288 with 1 Axes>"
      ]
     },
     "metadata": {},
     "output_type": "display_data"
    }
   ],
   "source": [
    "#using heatmaps to explore missing data, yellow marks indicate missing data in column\n",
    "sns.heatmap(titanic_train.isnull(), yticklabels=False, cbar=False,cmap=\"plasma\")"
   ]
  },
  {
   "cell_type": "markdown",
   "id": "cd47c5ee",
   "metadata": {},
   "source": [
    "The below boxplot can be used to deduce the mean age in the three classes of passengers.The mean age were deduced as follows, class 1:37years, class 2 :29years, class 3:24years. These would be used to fill the missing ages in the age column. This is preferred to dropping the missing age rows because it is statistically closer to the real ages and prevents loss of data."
   ]
  },
  {
   "cell_type": "code",
   "execution_count": 121,
   "id": "cd53b225",
   "metadata": {},
   "outputs": [
    {
     "data": {
      "text/plain": [
       "Text(0.5, 1.0, 'Boxplot of Pclass against Age')"
      ]
     },
     "execution_count": 121,
     "metadata": {},
     "output_type": "execute_result"
    },
    {
     "data": {
      "image/png": "[encoded data removed]",
      "text/plain": [
       "<Figure size 864x576 with 1 Axes>"
      ]
     },
     "metadata": {},
     "output_type": "display_data"
    }
   ],
   "source": [
    "#using boxplots to determine average ages per class\n",
    "plt.figure(figsize=(12,8))\n",
    "sns.boxplot(x=\"Pclass\",y=\"Age\", data=titanic_train)\n",
    "plt.title('Boxplot of Pclass against Age', fontsize=12)"
   ]
  },
  {
   "cell_type": "code",
   "execution_count": 122,
   "id": "9d152837",
   "metadata": {},
   "outputs": [],
   "source": [
    "def fill_age(col):\n",
    "    \"\"\"function that takes in an arguement col, and changes null values to avg\n",
    "    age of the passenger class they belong to\"\"\"\n",
    "    Age = col[0]\n",
    "    Pclass = col[1]\n",
    "    \n",
    "    if pd.isnull(Age):\n",
    "        \n",
    "        if Pclass == 1:\n",
    "            return 37\n",
    "        elif Pclass == 2:\n",
    "            return 29\n",
    "        else:\n",
    "            return 24\n",
    "    else:\n",
    "        return Age"
   ]
  },
  {
   "cell_type": "code",
   "execution_count": 123,
   "id": "84218c0b",
   "metadata": {},
   "outputs": [],
   "source": [
    "#filling the missing ages with mean of ages per class\n",
    "titanic_train['Age'] = titanic_train[[\"Age\",\"Pclass\"]].apply(fill_age, axis=1)"
   ]
  },
  {
   "cell_type": "markdown",
   "id": "7488e1c8",
   "metadata": {},
   "source": [
    "The below chart shows that of those who didn't survive, males were more than females. Among those who survived,females were more than males. This indicates that females survived the titanic more than males.This could possibly be attributed to saving children and females first before males."
   ]
  },
  {
   "cell_type": "code",
   "execution_count": 124,
   "id": "9474d2b6",
   "metadata": {},
   "outputs": [
    {
     "data": {
      "text/plain": [
       "Text(0.5, 1.0, 'Passenger Survival based on Sex')"
      ]
     },
     "execution_count": 124,
     "metadata": {},
     "output_type": "execute_result"
    },
    {
     "data": {
      "image/png": "[encoded data removed]",
      "text/plain": [
       "<Figure size 432x288 with 1 Axes>"
      ]
     },
     "metadata": {},
     "output_type": "display_data"
    }
   ],
   "source": [
    "#to get a count of who survived and who didn't. This is good for\n",
    "#classification problem to see the ratio of the actual target labels\n",
    "sns.countplot(x=\"Survived\",hue=\"Sex\", data=titanic_train,)\n",
    "plt.title('Passenger Survival based on Sex', fontsize=12)"
   ]
  },
  {
   "cell_type": "markdown",
   "id": "2d7d4282",
   "metadata": {},
   "source": [
    "Distrubtion of fares against ages in below jointplot shows that a large percentage of the passengers purchased cheap tickets and would most likely fall in 3rd class and be in less luxurious areas of the ship."
   ]
  },
  {
   "cell_type": "code",
   "execution_count": 125,
   "id": "af64aca7",
   "metadata": {
    "scrolled": true
   },
   "outputs": [
    {
     "data": {
      "text/plain": [
       "<seaborn.axisgrid.JointGrid at 0x151d053e7c0>"
      ]
     },
     "execution_count": 125,
     "metadata": {},
     "output_type": "execute_result"
    },
    {
     "data": {
      "image/png": "[encoded data removed]",
      "text/plain": [
       "<Figure size 432x432 with 3 Axes>"
      ]
     },
     "metadata": {},
     "output_type": "display_data"
    }
   ],
   "source": [
    "#jointplot showing distribution of fares and ages in a scatter and histplot\n",
    "sns.jointplot(x='Fare',y='Age',data=titanic_train)"
   ]
  },
  {
   "cell_type": "markdown",
   "id": "5a12ccd9",
   "metadata": {},
   "source": [
    "The plot below shows that larger percentage of the Passengers who did not survive were in 3rd class, and those who survived were in first mostly in first class."
   ]
  },
  {
   "cell_type": "code",
   "execution_count": 126,
   "id": "68b6ccb0",
   "metadata": {},
   "outputs": [
    {
     "data": {
      "text/plain": [
       "Text(0.5, 1.0, 'Passenger Survival based on Class')"
      ]
     },
     "execution_count": 126,
     "metadata": {},
     "output_type": "execute_result"
    },
    {
     "data": {
      "image/png": "[encoded data removed]",
      "text/plain": [
       "<Figure size 432x288 with 1 Axes>"
      ]
     },
     "metadata": {},
     "output_type": "display_data"
    }
   ],
   "source": [
    "sns.countplot(x=\"Survived\",hue=\"Pclass\", data=titanic_train)\n",
    "plt.title('Passenger Survival based on Class', fontsize=12)\n"
   ]
  },
  {
   "cell_type": "markdown",
   "id": "9883726e",
   "metadata": {},
   "source": [
    "Below plot shows that the most of the passengers on the titanic were around 18-40 years old. Those between 22-25years old make up a large chunk of this age range."
   ]
  },
  {
   "cell_type": "code",
   "execution_count": 127,
   "id": "490b9eb3",
   "metadata": {},
   "outputs": [
    {
     "data": {
      "text/plain": [
       "Text(0.5, 1.0, 'Plot of Age of passengers')"
      ]
     },
     "execution_count": 127,
     "metadata": {},
     "output_type": "execute_result"
    },
    {
     "data": {
      "image/png": "[encoded data removed]",
      "text/plain": [
       "<Figure size 360x360 with 1 Axes>"
      ]
     },
     "metadata": {},
     "output_type": "display_data"
    }
   ],
   "source": [
    "sns.displot(titanic_train[\"Age\"],kde=True, bins=30)\n",
    "plt.title('Plot of Age of passengers', fontsize=12)"
   ]
  },
  {
   "cell_type": "markdown",
   "id": "1c4ff2a2",
   "metadata": {},
   "source": [
    "# Machine Learning Section\n",
    "\n",
    "In this section, we would prepare the data to be machine readable format and train a model inorde to be able to make predictions on thr test data."
   ]
  },
  {
   "cell_type": "code",
   "execution_count": 128,
   "id": "69c03db4",
   "metadata": {},
   "outputs": [],
   "source": [
    "#dropping the cabin column with lots of missing data and not needed for model training\n",
    "titanic_train.drop(\"Cabin\",axis=1, inplace=True)"
   ]
  },
  {
   "cell_type": "code",
   "execution_count": 129,
   "id": "954f7491",
   "metadata": {},
   "outputs": [],
   "source": [
    "#drop the rows left of missing data in embarked column\n",
    "titanic_train.dropna(inplace=True)"
   ]
  },
  {
   "cell_type": "code",
   "execution_count": 130,
   "id": "f0d9f7f3",
   "metadata": {},
   "outputs": [],
   "source": [
    "#converting the sex column to 1 and 0 for male and female respectively\n",
    "\n",
    "gender = {'male':1, 'female':0}\n",
    "\n",
    "titanic_train['Sex'] = titanic_train['Sex'].map(gender)"
   ]
  },
  {
   "cell_type": "code",
   "execution_count": 131,
   "id": "17d22647",
   "metadata": {},
   "outputs": [],
   "source": [
    "#drop_first assist to solve the issue of columns perfect prediction of each other e.g row 1 below\n",
    "#embark = pd.get_dummies(titanic_train[\"Embarked\"]) "
   ]
  },
  {
   "cell_type": "code",
   "execution_count": 132,
   "id": "a188cb80",
   "metadata": {},
   "outputs": [],
   "source": [
    "#to merge the new formed columns with the original dataset\n",
    "#titanic_train = pd.concat([titanic_train,embark], axis=1)\n",
    "#titanic_train"
   ]
  },
  {
   "cell_type": "code",
   "execution_count": 133,
   "id": "47777b97",
   "metadata": {},
   "outputs": [],
   "source": [
    "#Drop columns not needed for training model\n",
    "titanic_train.drop([\"Embarked\", \"Name\",\"Ticket\",\"PassengerId\"], axis=1, inplace=True)"
   ]
  },
  {
   "cell_type": "code",
   "execution_count": 134,
   "id": "1e2a1711",
   "metadata": {},
   "outputs": [
    {
     "data": {
      "text/html": [
       "<div>\n",
       "<style scoped>\n",
       "    .dataframe tbody tr th:only-of-type {\n",
       "        vertical-align: middle;\n",
       "    }\n",
       "\n",
       "    .dataframe tbody tr th {\n",
       "        vertical-align: top;\n",
       "    }\n",
       "\n",
       "    .dataframe thead th {\n",
       "        text-align: right;\n",
       "    }\n",
       "</style>\n",
       "<table border=\"1\" class=\"dataframe\">\n",
       "  <thead>\n",
       "    <tr style=\"text-align: right;\">\n",
       "      <th></th>\n",
       "      <th>Survived</th>\n",
       "      <th>Pclass</th>\n",
       "      <th>Sex</th>\n",
       "      <th>Age</th>\n",
       "      <th>SibSp</th>\n",
       "      <th>Parch</th>\n",
       "      <th>Fare</th>\n",
       "    </tr>\n",
       "  </thead>\n",
       "  <tbody>\n",
       "    <tr>\n",
       "      <th>0</th>\n",
       "      <td>0</td>\n",
       "      <td>3</td>\n",
       "      <td>1</td>\n",
       "      <td>22.0</td>\n",
       "      <td>1</td>\n",
       "      <td>0</td>\n",
       "      <td>7.2500</td>\n",
       "    </tr>\n",
       "    <tr>\n",
       "      <th>1</th>\n",
       "      <td>1</td>\n",
       "      <td>1</td>\n",
       "      <td>0</td>\n",
       "      <td>38.0</td>\n",
       "      <td>1</td>\n",
       "      <td>0</td>\n",
       "      <td>71.2833</td>\n",
       "    </tr>\n",
       "    <tr>\n",
       "      <th>2</th>\n",
       "      <td>1</td>\n",
       "      <td>3</td>\n",
       "      <td>0</td>\n",
       "      <td>26.0</td>\n",
       "      <td>0</td>\n",
       "      <td>0</td>\n",
       "      <td>7.9250</td>\n",
       "    </tr>\n",
       "    <tr>\n",
       "      <th>3</th>\n",
       "      <td>1</td>\n",
       "      <td>1</td>\n",
       "      <td>0</td>\n",
       "      <td>35.0</td>\n",
       "      <td>1</td>\n",
       "      <td>0</td>\n",
       "      <td>53.1000</td>\n",
       "    </tr>\n",
       "    <tr>\n",
       "      <th>4</th>\n",
       "      <td>0</td>\n",
       "      <td>3</td>\n",
       "      <td>1</td>\n",
       "      <td>35.0</td>\n",
       "      <td>0</td>\n",
       "      <td>0</td>\n",
       "      <td>8.0500</td>\n",
       "    </tr>\n",
       "  </tbody>\n",
       "</table>\n",
       "</div>"
      ],
      "text/plain": [
       "   Survived  Pclass  Sex   Age  SibSp  Parch     Fare\n",
       "0         0       3    1  22.0      1      0   7.2500\n",
       "1         1       1    0  38.0      1      0  71.2833\n",
       "2         1       3    0  26.0      0      0   7.9250\n",
       "3         1       1    0  35.0      1      0  53.1000\n",
       "4         0       3    1  35.0      0      0   8.0500"
      ]
     },
     "execution_count": 134,
     "metadata": {},
     "output_type": "execute_result"
    }
   ],
   "source": [
    "titanic_train.head()"
   ]
  },
  {
   "cell_type": "code",
   "execution_count": 135,
   "id": "01a12088",
   "metadata": {},
   "outputs": [],
   "source": [
    "#first thing is to seperate data into X and Y\n",
    "X = titanic_train.drop(\"Survived\",axis=1)\n",
    "y = titanic_train[\"Survived\"]\n"
   ]
  },
  {
   "cell_type": "code",
   "execution_count": 136,
   "id": "41b023ac",
   "metadata": {},
   "outputs": [],
   "source": [
    "from sklearn.model_selection import train_test_split\n",
    "\n",
    "X_train, X_test, y_train, y_test = train_test_split(X, y, test_size=0.2, random_state=101)"
   ]
  },
  {
   "cell_type": "markdown",
   "id": "8e13fdfd",
   "metadata": {},
   "source": [
    "## Random Forest Model\n",
    "\n",
    "Train a random forest model using the train data, evaluate its performance on a test data and making predictions on the test data."
   ]
  },
  {
   "cell_type": "code",
   "execution_count": 137,
   "id": "364c9cda",
   "metadata": {},
   "outputs": [
    {
     "name": "stdout",
     "output_type": "stream",
     "text": [
      "CPU times: total: 0 ns\n",
      "Wall time: 0 ns\n"
     ]
    },
    {
     "data": {
      "text/plain": [
       "RandomForestRegressor()"
      ]
     },
     "execution_count": 137,
     "metadata": {},
     "output_type": "execute_result"
    }
   ],
   "source": [
    "from sklearn.metrics import classification_report, confusion_matrix, plot_confusion_matrix\n",
    "from sklearn.ensemble import RandomForestRegressor\n",
    "rfc = RandomForestRegressor()\n",
    "%time\n",
    "rfc.fit(X_train, y_train)\n"
   ]
  },
  {
   "cell_type": "code",
   "execution_count": 138,
   "id": "4cd99760",
   "metadata": {},
   "outputs": [
    {
     "name": "stdout",
     "output_type": "stream",
     "text": [
      "[0.   0.12 0.98 1.   0.11 0.04 0.85 0.1  0.   0.92 0.99 1.   0.   0.55\n",
      " 0.   0.17 1.   1.   0.94 0.15 0.02 0.09 0.01 0.05 0.07 0.37 0.36 0.72\n",
      " 0.46 0.65 0.27 0.18 0.04 0.02 0.   0.34 0.85 0.05 0.29 0.05 0.71 0.2\n",
      " 0.43 1.   0.95 0.05 0.49 0.98 0.86 0.   0.58 0.99 0.13 0.01 0.08 0.\n",
      " 0.47 0.17 0.15 0.8  0.92 1.   1.   0.03 0.91 0.04 0.   0.97 0.42 0.15\n",
      " 0.28 0.   0.99 1.   0.02 0.64 0.03 0.   0.06 0.59 0.14 0.45 0.81 0.17\n",
      " 0.2  0.93 0.38 0.77 0.   1.   0.51 0.62 0.48 0.37 0.78 1.   0.63 0.27\n",
      " 0.   0.72 0.85 0.85 0.12 0.94 0.8  0.06 1.   0.04 0.65 0.04 0.08 0.13\n",
      " 0.91 0.8  0.   0.86 0.28 0.26 1.   0.85 0.16 0.03 0.11 0.02 0.01 0.92\n",
      " 0.91 0.17 0.98 0.7  0.18 0.47 1.   0.64 0.09 0.26 0.4  0.29 0.43 0.14\n",
      " 0.   0.27 0.04 0.03 0.   0.56 0.01 0.06 0.46 0.85 0.06 0.92 0.3  0.83\n",
      " 0.12 0.7  0.1  0.   0.87 0.04 0.31 0.   0.13 0.44 0.05 0.86 0.54 0.\n",
      " 0.06 0.06 0.84 0.04 0.77 0.22 0.01 0.37 0.32 0.  ]\n"
     ]
    }
   ],
   "source": [
    "# extract the predicted probabilities\n",
    "rfc_pred = rfc.predict(X_test)\n",
    "rfc_pred = rfc_pred.flatten()\n",
    "print(rfc_pred.round(2))"
   ]
  },
  {
   "cell_type": "markdown",
   "id": "ab1fa753",
   "metadata": {},
   "source": [
    "An accuracy of 83% was achieved by using a random forest model on this dataset. Accuarcy used as the target classification label is fairly balanced."
   ]
  },
  {
   "cell_type": "code",
   "execution_count": 139,
   "id": "070f5af7",
   "metadata": {},
   "outputs": [
    {
     "name": "stdout",
     "output_type": "stream",
     "text": [
      "[0 0 1 1 0 0 1 0 0 1 1 1 0 1 0 0 1 1 1 0 0 0 0 0 0 0 0 1 0 1 0 0 0 0 0 0 1\n",
      " 0 0 0 1 0 0 1 1 0 0 1 1 0 1 1 0 0 0 0 0 0 0 1 1 1 1 0 1 0 0 1 0 0 0 0 1 1\n",
      " 0 1 0 0 0 1 0 0 1 0 0 1 0 1 0 1 1 1 0 0 1 1 1 0 0 1 1 1 0 1 1 0 1 0 1 0 0\n",
      " 0 1 1 0 1 0 0 1 1 0 0 0 0 0 1 1 0 1 1 0 0 1 1 0 0 0 0 0 0 0 0 0 0 0 1 0 0\n",
      " 0 1 0 1 0 1 0 1 0 0 1 0 0 0 0 0 0 1 1 0 0 0 1 0 1 0 0 0 0 0]\n",
      "              precision    recall  f1-score   support\n",
      "\n",
      "           0       0.85      0.88      0.86       107\n",
      "           1       0.81      0.76      0.78        71\n",
      "\n",
      "    accuracy                           0.83       178\n",
      "   macro avg       0.83      0.82      0.82       178\n",
      "weighted avg       0.83      0.83      0.83       178\n",
      "\n"
     ]
    }
   ],
   "source": [
    "approx_rfc_pred = np.where(rfc_pred > 0.5, 1, 0)\n",
    "print(approx_rfc_pred)\n",
    "\n",
    "print(classification_report(y_test,approx_rfc_pred))\n",
    "\n"
   ]
  },
  {
   "cell_type": "markdown",
   "id": "5e4115cd",
   "metadata": {},
   "source": [
    "The test data has to be prepared to be machine ready and have same columns as the data for training the model. These\n",
    "would be carried out in the following below cells."
   ]
  },
  {
   "cell_type": "code",
   "execution_count": 92,
   "id": "8d18e179",
   "metadata": {},
   "outputs": [
    {
     "data": {
      "text/html": [
       "<div>\n",
       "<style scoped>\n",
       "    .dataframe tbody tr th:only-of-type {\n",
       "        vertical-align: middle;\n",
       "    }\n",
       "\n",
       "    .dataframe tbody tr th {\n",
       "        vertical-align: top;\n",
       "    }\n",
       "\n",
       "    .dataframe thead th {\n",
       "        text-align: right;\n",
       "    }\n",
       "</style>\n",
       "<table border=\"1\" class=\"dataframe\">\n",
       "  <thead>\n",
       "    <tr style=\"text-align: right;\">\n",
       "      <th></th>\n",
       "      <th>PassengerId</th>\n",
       "      <th>Pclass</th>\n",
       "      <th>Name</th>\n",
       "      <th>Sex</th>\n",
       "      <th>Age</th>\n",
       "      <th>SibSp</th>\n",
       "      <th>Parch</th>\n",
       "      <th>Ticket</th>\n",
       "      <th>Fare</th>\n",
       "      <th>Cabin</th>\n",
       "      <th>Embarked</th>\n",
       "    </tr>\n",
       "  </thead>\n",
       "  <tbody>\n",
       "    <tr>\n",
       "      <th>0</th>\n",
       "      <td>892</td>\n",
       "      <td>3</td>\n",
       "      <td>Kelly, Mr. James</td>\n",
       "      <td>male</td>\n",
       "      <td>34.5</td>\n",
       "      <td>0</td>\n",
       "      <td>0</td>\n",
       "      <td>330911</td>\n",
       "      <td>7.8292</td>\n",
       "      <td>NaN</td>\n",
       "      <td>Q</td>\n",
       "    </tr>\n",
       "    <tr>\n",
       "      <th>1</th>\n",
       "      <td>893</td>\n",
       "      <td>3</td>\n",
       "      <td>Wilkes, Mrs. James (Ellen Needs)</td>\n",
       "      <td>female</td>\n",
       "      <td>47.0</td>\n",
       "      <td>1</td>\n",
       "      <td>0</td>\n",
       "      <td>363272</td>\n",
       "      <td>7.0000</td>\n",
       "      <td>NaN</td>\n",
       "      <td>S</td>\n",
       "    </tr>\n",
       "    <tr>\n",
       "      <th>2</th>\n",
       "      <td>894</td>\n",
       "      <td>2</td>\n",
       "      <td>Myles, Mr. Thomas Francis</td>\n",
       "      <td>male</td>\n",
       "      <td>62.0</td>\n",
       "      <td>0</td>\n",
       "      <td>0</td>\n",
       "      <td>240276</td>\n",
       "      <td>9.6875</td>\n",
       "      <td>NaN</td>\n",
       "      <td>Q</td>\n",
       "    </tr>\n",
       "    <tr>\n",
       "      <th>3</th>\n",
       "      <td>895</td>\n",
       "      <td>3</td>\n",
       "      <td>Wirz, Mr. Albert</td>\n",
       "      <td>male</td>\n",
       "      <td>27.0</td>\n",
       "      <td>0</td>\n",
       "      <td>0</td>\n",
       "      <td>315154</td>\n",
       "      <td>8.6625</td>\n",
       "      <td>NaN</td>\n",
       "      <td>S</td>\n",
       "    </tr>\n",
       "    <tr>\n",
       "      <th>4</th>\n",
       "      <td>896</td>\n",
       "      <td>3</td>\n",
       "      <td>Hirvonen, Mrs. Alexander (Helga E Lindqvist)</td>\n",
       "      <td>female</td>\n",
       "      <td>22.0</td>\n",
       "      <td>1</td>\n",
       "      <td>1</td>\n",
       "      <td>3101298</td>\n",
       "      <td>12.2875</td>\n",
       "      <td>NaN</td>\n",
       "      <td>S</td>\n",
       "    </tr>\n",
       "    <tr>\n",
       "      <th>...</th>\n",
       "      <td>...</td>\n",
       "      <td>...</td>\n",
       "      <td>...</td>\n",
       "      <td>...</td>\n",
       "      <td>...</td>\n",
       "      <td>...</td>\n",
       "      <td>...</td>\n",
       "      <td>...</td>\n",
       "      <td>...</td>\n",
       "      <td>...</td>\n",
       "      <td>...</td>\n",
       "    </tr>\n",
       "    <tr>\n",
       "      <th>413</th>\n",
       "      <td>1305</td>\n",
       "      <td>3</td>\n",
       "      <td>Spector, Mr. Woolf</td>\n",
       "      <td>male</td>\n",
       "      <td>NaN</td>\n",
       "      <td>0</td>\n",
       "      <td>0</td>\n",
       "      <td>A.5. 3236</td>\n",
       "      <td>8.0500</td>\n",
       "      <td>NaN</td>\n",
       "      <td>S</td>\n",
       "    </tr>\n",
       "    <tr>\n",
       "      <th>414</th>\n",
       "      <td>1306</td>\n",
       "      <td>1</td>\n",
       "      <td>Oliva y Ocana, Dona. Fermina</td>\n",
       "      <td>female</td>\n",
       "      <td>39.0</td>\n",
       "      <td>0</td>\n",
       "      <td>0</td>\n",
       "      <td>PC 17758</td>\n",
       "      <td>108.9000</td>\n",
       "      <td>C105</td>\n",
       "      <td>C</td>\n",
       "    </tr>\n",
       "    <tr>\n",
       "      <th>415</th>\n",
       "      <td>1307</td>\n",
       "      <td>3</td>\n",
       "      <td>Saether, Mr. Simon Sivertsen</td>\n",
       "      <td>male</td>\n",
       "      <td>38.5</td>\n",
       "      <td>0</td>\n",
       "      <td>0</td>\n",
       "      <td>SOTON/O.Q. 3101262</td>\n",
       "      <td>7.2500</td>\n",
       "      <td>NaN</td>\n",
       "      <td>S</td>\n",
       "    </tr>\n",
       "    <tr>\n",
       "      <th>416</th>\n",
       "      <td>1308</td>\n",
       "      <td>3</td>\n",
       "      <td>Ware, Mr. Frederick</td>\n",
       "      <td>male</td>\n",
       "      <td>NaN</td>\n",
       "      <td>0</td>\n",
       "      <td>0</td>\n",
       "      <td>359309</td>\n",
       "      <td>8.0500</td>\n",
       "      <td>NaN</td>\n",
       "      <td>S</td>\n",
       "    </tr>\n",
       "    <tr>\n",
       "      <th>417</th>\n",
       "      <td>1309</td>\n",
       "      <td>3</td>\n",
       "      <td>Peter, Master. Michael J</td>\n",
       "      <td>male</td>\n",
       "      <td>NaN</td>\n",
       "      <td>1</td>\n",
       "      <td>1</td>\n",
       "      <td>2668</td>\n",
       "      <td>22.3583</td>\n",
       "      <td>NaN</td>\n",
       "      <td>C</td>\n",
       "    </tr>\n",
       "  </tbody>\n",
       "</table>\n",
       "<p>418 rows × 11 columns</p>\n",
       "</div>"
      ],
      "text/plain": [
       "     PassengerId  Pclass                                          Name  \\\n",
       "0            892       3                              Kelly, Mr. James   \n",
       "1            893       3              Wilkes, Mrs. James (Ellen Needs)   \n",
       "2            894       2                     Myles, Mr. Thomas Francis   \n",
       "3            895       3                              Wirz, Mr. Albert   \n",
       "4            896       3  Hirvonen, Mrs. Alexander (Helga E Lindqvist)   \n",
       "..           ...     ...                                           ...   \n",
       "413         1305       3                            Spector, Mr. Woolf   \n",
       "414         1306       1                  Oliva y Ocana, Dona. Fermina   \n",
       "415         1307       3                  Saether, Mr. Simon Sivertsen   \n",
       "416         1308       3                           Ware, Mr. Frederick   \n",
       "417         1309       3                      Peter, Master. Michael J   \n",
       "\n",
       "        Sex   Age  SibSp  Parch              Ticket      Fare Cabin Embarked  \n",
       "0      male  34.5      0      0              330911    7.8292   NaN        Q  \n",
       "1    female  47.0      1      0              363272    7.0000   NaN        S  \n",
       "2      male  62.0      0      0              240276    9.6875   NaN        Q  \n",
       "3      male  27.0      0      0              315154    8.6625   NaN        S  \n",
       "4    female  22.0      1      1             3101298   12.2875   NaN        S  \n",
       "..      ...   ...    ...    ...                 ...       ...   ...      ...  \n",
       "413    male   NaN      0      0           A.5. 3236    8.0500   NaN        S  \n",
       "414  female  39.0      0      0            PC 17758  108.9000  C105        C  \n",
       "415    male  38.5      0      0  SOTON/O.Q. 3101262    7.2500   NaN        S  \n",
       "416    male   NaN      0      0              359309    8.0500   NaN        S  \n",
       "417    male   NaN      1      1                2668   22.3583   NaN        C  \n",
       "\n",
       "[418 rows x 11 columns]"
      ]
     },
     "execution_count": 92,
     "metadata": {},
     "output_type": "execute_result"
    }
   ],
   "source": [
    "#Reading in the test data \n",
    "titanic_test = pd.read_csv(\"test.csv\")\n",
    "titanic_test"
   ]
  },
  {
   "cell_type": "code",
   "execution_count": 85,
   "id": "f8d4842b",
   "metadata": {},
   "outputs": [
    {
     "data": {
      "text/html": [
       "<div>\n",
       "<style scoped>\n",
       "    .dataframe tbody tr th:only-of-type {\n",
       "        vertical-align: middle;\n",
       "    }\n",
       "\n",
       "    .dataframe tbody tr th {\n",
       "        vertical-align: top;\n",
       "    }\n",
       "\n",
       "    .dataframe thead th {\n",
       "        text-align: right;\n",
       "    }\n",
       "</style>\n",
       "<table border=\"1\" class=\"dataframe\">\n",
       "  <thead>\n",
       "    <tr style=\"text-align: right;\">\n",
       "      <th></th>\n",
       "      <th>PassengerId</th>\n",
       "      <th>Pclass</th>\n",
       "      <th>Name</th>\n",
       "      <th>Sex</th>\n",
       "      <th>Age</th>\n",
       "      <th>SibSp</th>\n",
       "      <th>Parch</th>\n",
       "      <th>Ticket</th>\n",
       "      <th>Fare</th>\n",
       "      <th>Cabin</th>\n",
       "      <th>Embarked</th>\n",
       "      <th>C</th>\n",
       "      <th>Q</th>\n",
       "      <th>S</th>\n",
       "    </tr>\n",
       "  </thead>\n",
       "  <tbody>\n",
       "    <tr>\n",
       "      <th>0</th>\n",
       "      <td>892</td>\n",
       "      <td>3</td>\n",
       "      <td>Kelly, Mr. James</td>\n",
       "      <td>male</td>\n",
       "      <td>34.5</td>\n",
       "      <td>0</td>\n",
       "      <td>0</td>\n",
       "      <td>330911</td>\n",
       "      <td>7.8292</td>\n",
       "      <td>NaN</td>\n",
       "      <td>Q</td>\n",
       "      <td>0</td>\n",
       "      <td>1</td>\n",
       "      <td>0</td>\n",
       "    </tr>\n",
       "    <tr>\n",
       "      <th>1</th>\n",
       "      <td>893</td>\n",
       "      <td>3</td>\n",
       "      <td>Wilkes, Mrs. James (Ellen Needs)</td>\n",
       "      <td>female</td>\n",
       "      <td>47.0</td>\n",
       "      <td>1</td>\n",
       "      <td>0</td>\n",
       "      <td>363272</td>\n",
       "      <td>7.0000</td>\n",
       "      <td>NaN</td>\n",
       "      <td>S</td>\n",
       "      <td>0</td>\n",
       "      <td>0</td>\n",
       "      <td>1</td>\n",
       "    </tr>\n",
       "    <tr>\n",
       "      <th>2</th>\n",
       "      <td>894</td>\n",
       "      <td>2</td>\n",
       "      <td>Myles, Mr. Thomas Francis</td>\n",
       "      <td>male</td>\n",
       "      <td>62.0</td>\n",
       "      <td>0</td>\n",
       "      <td>0</td>\n",
       "      <td>240276</td>\n",
       "      <td>9.6875</td>\n",
       "      <td>NaN</td>\n",
       "      <td>Q</td>\n",
       "      <td>0</td>\n",
       "      <td>1</td>\n",
       "      <td>0</td>\n",
       "    </tr>\n",
       "    <tr>\n",
       "      <th>3</th>\n",
       "      <td>895</td>\n",
       "      <td>3</td>\n",
       "      <td>Wirz, Mr. Albert</td>\n",
       "      <td>male</td>\n",
       "      <td>27.0</td>\n",
       "      <td>0</td>\n",
       "      <td>0</td>\n",
       "      <td>315154</td>\n",
       "      <td>8.6625</td>\n",
       "      <td>NaN</td>\n",
       "      <td>S</td>\n",
       "      <td>0</td>\n",
       "      <td>0</td>\n",
       "      <td>1</td>\n",
       "    </tr>\n",
       "    <tr>\n",
       "      <th>4</th>\n",
       "      <td>896</td>\n",
       "      <td>3</td>\n",
       "      <td>Hirvonen, Mrs. Alexander (Helga E Lindqvist)</td>\n",
       "      <td>female</td>\n",
       "      <td>22.0</td>\n",
       "      <td>1</td>\n",
       "      <td>1</td>\n",
       "      <td>3101298</td>\n",
       "      <td>12.2875</td>\n",
       "      <td>NaN</td>\n",
       "      <td>S</td>\n",
       "      <td>0</td>\n",
       "      <td>0</td>\n",
       "      <td>1</td>\n",
       "    </tr>\n",
       "  </tbody>\n",
       "</table>\n",
       "</div>"
      ],
      "text/plain": [
       "   PassengerId  Pclass                                          Name     Sex  \\\n",
       "0          892       3                              Kelly, Mr. James    male   \n",
       "1          893       3              Wilkes, Mrs. James (Ellen Needs)  female   \n",
       "2          894       2                     Myles, Mr. Thomas Francis    male   \n",
       "3          895       3                              Wirz, Mr. Albert    male   \n",
       "4          896       3  Hirvonen, Mrs. Alexander (Helga E Lindqvist)  female   \n",
       "\n",
       "    Age  SibSp  Parch   Ticket     Fare Cabin Embarked  C  Q  S  \n",
       "0  34.5      0      0   330911   7.8292   NaN        Q  0  1  0  \n",
       "1  47.0      1      0   363272   7.0000   NaN        S  0  0  1  \n",
       "2  62.0      0      0   240276   9.6875   NaN        Q  0  1  0  \n",
       "3  27.0      0      0   315154   8.6625   NaN        S  0  0  1  \n",
       "4  22.0      1      1  3101298  12.2875   NaN        S  0  0  1  "
      ]
     },
     "execution_count": 85,
     "metadata": {},
     "output_type": "execute_result"
    }
   ],
   "source": [
    "embark_test = pd.get_dummies(titanic_test[\"Embarked\"]) \n",
    "\n",
    "titanic_test = pd.concat([titanic_test,embark_test], axis=1)\n",
    "titanic_test.head()"
   ]
  },
  {
   "cell_type": "code",
   "execution_count": 93,
   "id": "158e36bd",
   "metadata": {},
   "outputs": [],
   "source": [
    "passengerid = titanic_test['PassengerId']\n",
    "titanic_test.drop([\"Embarked\", \"Name\",\"Ticket\",\"PassengerId\", \"Cabin\"], axis=1, inplace=True)"
   ]
  },
  {
   "cell_type": "code",
   "execution_count": 94,
   "id": "9c27d45c",
   "metadata": {},
   "outputs": [],
   "source": [
    "#converting the sex column to 1 and 0 for male and female respectively\n",
    "titanic_test['Sex'] = titanic_test['Sex'].map(gender)"
   ]
  },
  {
   "cell_type": "code",
   "execution_count": 95,
   "id": "a6d2d0d6",
   "metadata": {},
   "outputs": [],
   "source": [
    "#filling age column in test data with avergae age per class\n",
    "titanic_test['Age'] = titanic_test[[\"Age\",\"Pclass\"]].apply(fill_age, axis=1)"
   ]
  },
  {
   "cell_type": "code",
   "execution_count": 96,
   "id": "42e5b5ce",
   "metadata": {},
   "outputs": [
    {
     "data": {
      "text/plain": [
       "Pclass\n",
       "1    94.280297\n",
       "2    22.202104\n",
       "3    12.459678\n",
       "Name: Fare, dtype: float64"
      ]
     },
     "execution_count": 96,
     "metadata": {},
     "output_type": "execute_result"
    }
   ],
   "source": [
    "#getting the average fare per class on the test data\n",
    "titanic_test.groupby(titanic_test['Pclass']).mean()['Fare']"
   ]
  },
  {
   "cell_type": "code",
   "execution_count": 97,
   "id": "d780f963",
   "metadata": {},
   "outputs": [],
   "source": [
    "#filling the missing row with mean of fare for that class\n",
    "titanic_test['Fare'].fillna(12.45, inplace=True)"
   ]
  },
  {
   "cell_type": "code",
   "execution_count": 98,
   "id": "694a3cf4",
   "metadata": {},
   "outputs": [
    {
     "name": "stdout",
     "output_type": "stream",
     "text": [
      "[0.13 0.07 0.64 0.19 0.39 0.13 0.15 0.08 0.96 0.12 0.   0.03 1.   0.26\n",
      " 1.   0.97 0.06 0.67 0.76 0.07 0.38 0.72 0.99 0.52 0.92 0.   1.   0.56\n",
      " 0.86 0.1  0.02 0.1  0.75 0.15 0.74 0.31 0.08 0.19 0.03 0.81 0.03 0.52\n",
      " 0.08 1.   1.   0.01 0.45 0.1  0.73 0.74 0.68 0.05 0.94 0.81 0.23 0.\n",
      " 0.   0.   0.02 1.   0.1  0.39 0.02 0.96 0.81 0.92 0.78 0.05 0.16 0.74\n",
      " 0.82 0.02 0.26 0.1  1.   0.22 0.   0.78 0.14 0.82 0.96 0.17 0.33 0.\n",
      " 0.57 0.09 0.9  0.48 0.82 0.98 0.18 0.04 0.69 0.   0.21 0.17 0.78 0.69\n",
      " 0.74 0.01 0.99 0.08 0.1  0.14 0.58 0.11 0.18 0.1  0.02 0.   0.07 0.64\n",
      " 0.99 0.96 0.78 0.22 0.23 0.87 0.57 0.99 0.93 0.12 1.   0.1  0.1  0.56\n",
      " 0.13 0.85 0.48 0.   0.26 0.54 0.11 0.21 0.18 0.01 0.08 0.01 0.11 0.06\n",
      " 0.   0.89 0.05 0.06 0.49 0.21 0.01 0.   0.52 0.11 1.   0.   0.3  0.69\n",
      " 0.03 0.   1.   0.93 0.49 0.69 0.98 0.93 0.74 0.26 0.31 0.38 0.56 0.01\n",
      " 0.99 0.08 0.   0.46 0.13 0.   0.11 1.   1.   0.41 0.99 0.71 0.14 0.2\n",
      " 1.   0.1  0.84 0.01 0.88 0.54 0.   0.03 0.11 0.04 0.77 0.38 0.46 0.16\n",
      " 0.97 0.27 0.02 0.07 0.83 0.95 0.21 0.96 0.01 0.03 0.16 0.01 0.99 0.\n",
      " 0.38 0.08 0.18 0.53 0.09 0.15 0.97 0.1  0.93 0.   0.96 0.03 0.73 0.64\n",
      " 0.88 0.75 0.06 0.82 0.02 0.07 0.3  0.98 0.16 0.   0.64 0.16 0.3  0.79\n",
      " 0.79 1.   0.85 0.87 0.14 0.   0.5  0.39 0.83 0.06 0.99 0.12 0.66 0.16\n",
      " 0.18 0.02 0.26 0.   0.1  0.   0.81 0.41 0.   0.05 0.98 0.78 0.13 0.\n",
      " 0.   0.   0.08 0.   0.21 0.1  0.79 0.87 0.   0.98 0.01 0.   0.01 0.05\n",
      " 0.09 0.96 0.82 0.22 0.77 0.   0.   0.25 0.   0.   0.   0.14 0.   0.09\n",
      " 0.09 0.01 0.61 0.1  0.06 0.35 0.18 0.25 0.08 0.03 0.82 0.74 0.07 0.91\n",
      " 0.12 0.05 0.07 0.57 0.   0.07 0.91 0.87 0.31 0.6  0.35 0.06 0.14 0.\n",
      " 0.01 0.84 1.   0.08 1.   0.12 0.12 0.03 0.94 0.71 0.   0.53 0.3  0.14\n",
      " 0.43 0.   0.13 0.   0.34 0.18 0.15 0.75 0.58 0.96 0.01 0.09 0.01 0.92\n",
      " 0.98 0.01 0.07 0.17 0.79 0.31 0.78 0.   0.1  0.54 0.19 1.   0.92 0.19\n",
      " 0.9  0.43 0.09 0.4  0.98 0.8  0.12 1.   0.21 0.39 1.   0.97 0.1  0.03\n",
      " 0.4  0.23 0.1  0.   0.27 0.54 0.77 1.   0.04 0.12 0.18 0.19 0.28 0.86\n",
      " 0.37 0.08 0.04 1.   0.   1.   0.07 0.2  0.99 0.   1.   0.33 0.16 0.14\n",
      " 0.08 0.14 0.98 0.62 0.82 1.   0.19 0.   1.   0.   0.   0.33]\n"
     ]
    }
   ],
   "source": [
    "rfc_pred_test = rfc.predict(titanic_test)\n",
    "rfc_pred_test = rfc_pred_test.flatten()\n",
    "print(rfc_pred_test.round(2))\n"
   ]
  },
  {
   "cell_type": "code",
   "execution_count": 99,
   "id": "0e81d31a",
   "metadata": {},
   "outputs": [
    {
     "name": "stdout",
     "output_type": "stream",
     "text": [
      "[0 0 1 0 0 0 0 0 1 0 0 0 1 0 1 1 0 1 1 0 0 1 1 1 1 0 1 1 1 0 0 0 1 0 1 0 0\n",
      " 0 0 1 0 1 0 1 1 0 0 0 1 1 1 0 1 1 0 0 0 0 0 1 0 0 0 1 1 1 1 0 0 1 1 0 0 0\n",
      " 1 0 0 1 0 1 1 0 0 0 1 0 1 0 1 1 0 0 1 0 0 0 1 1 1 0 1 0 0 0 1 0 0 0 0 0 0\n",
      " 1 1 1 1 0 0 1 1 1 1 0 1 0 0 1 0 1 0 0 0 1 0 0 0 0 0 0 0 0 0 1 0 0 0 0 0 0\n",
      " 1 0 1 0 0 1 0 0 1 1 0 1 1 1 1 0 0 0 1 0 1 0 0 0 0 0 0 1 1 0 1 1 0 0 1 0 1\n",
      " 0 1 1 0 0 0 0 1 0 0 0 1 0 0 0 1 1 0 1 0 0 0 0 1 0 0 0 0 1 0 0 1 0 1 0 1 0\n",
      " 1 1 1 1 0 1 0 0 0 1 0 0 1 0 0 1 1 1 1 1 0 0 0 0 1 0 1 0 1 0 0 0 0 0 0 0 1\n",
      " 0 0 0 1 1 0 0 0 0 0 0 0 0 1 1 0 1 0 0 0 0 0 1 1 0 1 0 0 0 0 0 0 0 0 0 0 0\n",
      " 1 0 0 0 0 0 0 0 1 1 0 1 0 0 0 1 0 0 1 1 0 1 0 0 0 0 0 1 1 0 1 0 0 0 1 1 0\n",
      " 1 0 0 0 0 0 0 0 0 0 1 1 1 0 0 0 1 1 0 0 0 1 0 1 0 0 1 0 1 1 0 1 0 0 0 1 1\n",
      " 0 1 0 0 1 1 0 0 0 0 0 0 0 1 1 1 0 0 0 0 0 1 0 0 0 1 0 1 0 0 1 0 1 0 0 0 0\n",
      " 0 1 1 1 1 0 0 1 0 0 0]\n"
     ]
    }
   ],
   "source": [
    "approx_rfc_pred_test = np.where(rfc_pred_test > 0.5, 1, 0)\n",
    "print(approx_rfc_pred_test)\n"
   ]
  },
  {
   "cell_type": "code",
   "execution_count": 100,
   "id": "7a8aea19",
   "metadata": {},
   "outputs": [
    {
     "data": {
      "text/html": [
       "<div>\n",
       "<style scoped>\n",
       "    .dataframe tbody tr th:only-of-type {\n",
       "        vertical-align: middle;\n",
       "    }\n",
       "\n",
       "    .dataframe tbody tr th {\n",
       "        vertical-align: top;\n",
       "    }\n",
       "\n",
       "    .dataframe thead th {\n",
       "        text-align: right;\n",
       "    }\n",
       "</style>\n",
       "<table border=\"1\" class=\"dataframe\">\n",
       "  <thead>\n",
       "    <tr style=\"text-align: right;\">\n",
       "      <th></th>\n",
       "      <th>PassengerId</th>\n",
       "      <th>Survived</th>\n",
       "    </tr>\n",
       "  </thead>\n",
       "  <tbody>\n",
       "    <tr>\n",
       "      <th>0</th>\n",
       "      <td>892</td>\n",
       "      <td>0</td>\n",
       "    </tr>\n",
       "    <tr>\n",
       "      <th>1</th>\n",
       "      <td>893</td>\n",
       "      <td>0</td>\n",
       "    </tr>\n",
       "    <tr>\n",
       "      <th>2</th>\n",
       "      <td>894</td>\n",
       "      <td>1</td>\n",
       "    </tr>\n",
       "    <tr>\n",
       "      <th>3</th>\n",
       "      <td>895</td>\n",
       "      <td>0</td>\n",
       "    </tr>\n",
       "    <tr>\n",
       "      <th>4</th>\n",
       "      <td>896</td>\n",
       "      <td>0</td>\n",
       "    </tr>\n",
       "    <tr>\n",
       "      <th>...</th>\n",
       "      <td>...</td>\n",
       "      <td>...</td>\n",
       "    </tr>\n",
       "    <tr>\n",
       "      <th>413</th>\n",
       "      <td>1305</td>\n",
       "      <td>0</td>\n",
       "    </tr>\n",
       "    <tr>\n",
       "      <th>414</th>\n",
       "      <td>1306</td>\n",
       "      <td>1</td>\n",
       "    </tr>\n",
       "    <tr>\n",
       "      <th>415</th>\n",
       "      <td>1307</td>\n",
       "      <td>0</td>\n",
       "    </tr>\n",
       "    <tr>\n",
       "      <th>416</th>\n",
       "      <td>1308</td>\n",
       "      <td>0</td>\n",
       "    </tr>\n",
       "    <tr>\n",
       "      <th>417</th>\n",
       "      <td>1309</td>\n",
       "      <td>0</td>\n",
       "    </tr>\n",
       "  </tbody>\n",
       "</table>\n",
       "<p>418 rows × 2 columns</p>\n",
       "</div>"
      ],
      "text/plain": [
       "     PassengerId  Survived\n",
       "0            892         0\n",
       "1            893         0\n",
       "2            894         1\n",
       "3            895         0\n",
       "4            896         0\n",
       "..           ...       ...\n",
       "413         1305         0\n",
       "414         1306         1\n",
       "415         1307         0\n",
       "416         1308         0\n",
       "417         1309         0\n",
       "\n",
       "[418 rows x 2 columns]"
      ]
     },
     "execution_count": 100,
     "metadata": {},
     "output_type": "execute_result"
    }
   ],
   "source": [
    "predictions = pd.DataFrame({\"PassengerId\":passengerid,'Survived': approx_rfc_pred_test,}, index= None)\n",
    "\n",
    "predictions"
   ]
  },
  {
   "cell_type": "code",
   "execution_count": 59,
   "id": "34596a6b",
   "metadata": {},
   "outputs": [],
   "source": [
    "predictions.to_csv('Titanic_predictions.csv', index=False)"
   ]
  },
  {
   "cell_type": "code",
   "execution_count": 40,
   "id": "7d03b295",
   "metadata": {},
   "outputs": [
    {
     "name": "stdout",
     "output_type": "stream",
     "text": [
      "CPU times: total: 0 ns\n",
      "Wall time: 0 ns\n",
      "\n",
      "\n"
     ]
    },
    {
     "name": "stderr",
     "output_type": "stream",
     "text": [
      "C:\\Users\\danio\\anaconda3\\lib\\site-packages\\sklearn\\utils\\deprecation.py:87: FutureWarning: Function plot_confusion_matrix is deprecated; Function `plot_confusion_matrix` is deprecated in 1.0 and will be removed in 1.2. Use one of the class methods: ConfusionMatrixDisplay.from_predictions or ConfusionMatrixDisplay.from_estimator.\n",
      "  warnings.warn(msg, category=FutureWarning)\n"
     ]
    },
    {
     "name": "stdout",
     "output_type": "stream",
     "text": [
      "              precision    recall  f1-score   support\n",
      "\n",
      "           0       0.81      0.83      0.82       115\n",
      "           1       0.81      0.79      0.80       105\n",
      "\n",
      "    accuracy                           0.81       220\n",
      "   macro avg       0.81      0.81      0.81       220\n",
      "weighted avg       0.81      0.81      0.81       220\n",
      "\n"
     ]
    },
    {
     "data": {
      "image/png": "[encoded data removed]",
      "text/plain": [
       "<Figure size 432x288 with 2 Axes>"
      ]
     },
     "metadata": {},
     "output_type": "display_data"
    }
   ],
   "source": [
    "from sklearn.datasets import make_hastie_10_2\n",
    "from sklearn.ensemble import GradientBoostingClassifier\n",
    "\n",
    "\n",
    "%time\n",
    "clf = GradientBoostingClassifier(n_estimators=100, learning_rate=1.0,max_depth=1, random_state=0).fit(X_train, y_train)\n",
    "clf_predictions = clf.predict(X_test)\n",
    "\n",
    "plot_confusion_matrix(clf, X_test, y_test)\n",
    "print('\\n')\n",
    "print(classification_report(y_test, clf_predictions))"
   ]
  },
  {
   "cell_type": "code",
   "execution_count": null,
   "id": "a955cae3",
   "metadata": {},
   "outputs": [],
   "source": []
  }
 ],
 "metadata": {
  "kernelspec": {
   "display_name": "Python 3 (ipykernel)",
   "language": "python",
   "name": "python3"
  },
  "language_info": {
   "codemirror_mode": {
    "name": "ipython",
    "version": 3
   },
   "file_extension": ".py",
   "mimetype": "text/x-python",
   "name": "python",
   "nbconvert_exporter": "python",
   "pygments_lexer": "ipython3",
   "version": "3.9.12"
  }
 },
 "nbformat": 4,
 "nbformat_minor": 5
}
